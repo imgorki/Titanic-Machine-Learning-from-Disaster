{
 "cells": [
  {
   "cell_type": "code",
   "execution_count": 1,
   "id": "915e71ed-d9a8-4cc6-ae1c-0eafe01cc0c8",
   "metadata": {
    "tags": []
   },
   "outputs": [],
   "source": [
    "import numpy as np\n",
    "import pandas as pd\n",
    "import seaborn as sns\n",
    "from matplotlib import pyplot as plt\n",
    "import warnings\n",
    "\n",
    "from sklearn.ensemble import RandomForestClassifier\n",
    "from sklearn.model_selection import cross_validate, GridSearchCV\n",
    "from sklearn.preprocessing import StandardScaler, RobustScaler\n",
    "\n",
    "warnings.simplefilter(action=\"ignore\", category=Warning)\n",
    "\n",
    "pd.set_option('display.max_columns', None)\n",
    "pd.set_option('display.width', None)\n",
    "pd.set_option('display.max_rows', None)\n",
    "pd.set_option('display.float_format', lambda x: '%.3f' % x)"
   ]
  },
  {
   "cell_type": "markdown",
   "id": "5e3bd7d9-d4d5-42ad-a8ea-724f7c11d445",
   "metadata": {
    "tags": []
   },
   "source": [
    "# Data Analysis"
   ]
  },
  {
   "cell_type": "code",
   "execution_count": 2,
   "id": "b5e5dfee-89c5-4035-a769-0b1f962ba72b",
   "metadata": {
    "tags": []
   },
   "outputs": [],
   "source": [
    "dataframe = pd.read_csv(\"datasets/train.csv\")\n",
    "dataframe_test = pd.read_csv(\"datasets/test.csv\")\n",
    "\n",
    "all_data = [dataframe, dataframe_test]"
   ]
  },
  {
   "cell_type": "code",
   "execution_count": 3,
   "id": "14db3278-d4a7-41be-9178-b5c97a6ec6aa",
   "metadata": {
    "tags": []
   },
   "outputs": [],
   "source": [
    "# Dataset Overview"
   ]
  },
  {
   "cell_type": "code",
   "execution_count": 4,
   "id": "3eabe710-f2e8-45ae-b70b-a269a763316d",
   "metadata": {
    "tags": []
   },
   "outputs": [
    {
     "name": "stdout",
     "output_type": "stream",
     "text": [
      "####################  Shape  ####################\n",
      "(891, 12)\n",
      "####################  Types  ####################\n",
      "PassengerId      int64\n",
      "Survived         int64\n",
      "Pclass           int64\n",
      "Name            object\n",
      "Sex             object\n",
      "Age            float64\n",
      "SibSp            int64\n",
      "Parch            int64\n",
      "Ticket          object\n",
      "Fare           float64\n",
      "Cabin           object\n",
      "Embarked        object\n",
      "dtype: object\n",
      "####################  Head  ####################\n",
      "   PassengerId  Survived  Pclass  \\\n",
      "0            1         0       3   \n",
      "1            2         1       1   \n",
      "2            3         1       3   \n",
      "3            4         1       1   \n",
      "4            5         0       3   \n",
      "\n",
      "                                                Name     Sex    Age  SibSp  \\\n",
      "0                            Braund, Mr. Owen Harris    male 22.000      1   \n",
      "1  Cumings, Mrs. John Bradley (Florence Briggs Th...  female 38.000      1   \n",
      "2                             Heikkinen, Miss. Laina  female 26.000      0   \n",
      "3       Futrelle, Mrs. Jacques Heath (Lily May Peel)  female 35.000      1   \n",
      "4                           Allen, Mr. William Henry    male 35.000      0   \n",
      "\n",
      "   Parch            Ticket   Fare Cabin Embarked  \n",
      "0      0         A/5 21171  7.250   NaN        S  \n",
      "1      0          PC 17599 71.283   C85        C  \n",
      "2      0  STON/O2. 3101282  7.925   NaN        S  \n",
      "3      0            113803 53.100  C123        S  \n",
      "4      0            373450  8.050   NaN        S  \n",
      "####################  Tail  ####################\n",
      "     PassengerId  Survived  Pclass                                      Name  \\\n",
      "886          887         0       2                     Montvila, Rev. Juozas   \n",
      "887          888         1       1              Graham, Miss. Margaret Edith   \n",
      "888          889         0       3  Johnston, Miss. Catherine Helen \"Carrie\"   \n",
      "889          890         1       1                     Behr, Mr. Karl Howell   \n",
      "890          891         0       3                       Dooley, Mr. Patrick   \n",
      "\n",
      "        Sex    Age  SibSp  Parch      Ticket   Fare Cabin Embarked  \n",
      "886    male 27.000      0      0      211536 13.000   NaN        S  \n",
      "887  female 19.000      0      0      112053 30.000   B42        S  \n",
      "888  female    NaN      1      2  W./C. 6607 23.450   NaN        S  \n",
      "889    male 26.000      0      0      111369 30.000  C148        C  \n",
      "890    male 32.000      0      0      370376  7.750   NaN        Q  \n",
      "####################  NA  ####################\n",
      "PassengerId      0\n",
      "Survived         0\n",
      "Pclass           0\n",
      "Name             0\n",
      "Sex              0\n",
      "Age            177\n",
      "SibSp            0\n",
      "Parch            0\n",
      "Ticket           0\n",
      "Fare             0\n",
      "Cabin          687\n",
      "Embarked         2\n",
      "dtype: int64\n",
      "####################  Quantiles ####################\n",
      "             0.000  0.050   0.500   0.950   0.990   1.000\n",
      "PassengerId  1.000 45.500 446.000 846.500 882.100 891.000\n",
      "Survived     0.000  0.000   0.000   1.000   1.000   1.000\n",
      "Pclass       1.000  1.000   3.000   3.000   3.000   3.000\n",
      "Age          0.420  4.000  28.000  56.000  65.870  80.000\n",
      "SibSp        0.000  0.000   0.000   3.000   5.000   8.000\n",
      "Parch        0.000  0.000   0.000   2.000   4.000   6.000\n",
      "Fare         0.000  7.225  14.454 112.079 249.006 512.329\n"
     ]
    }
   ],
   "source": [
    "print(\"#\"*20, \" Shape \", \"#\"*20)\n",
    "print(dataframe.shape)\n",
    "print(\"#\"*20, \" Types \", \"#\"*20)\n",
    "print(dataframe.dtypes)\n",
    "print(\"#\"*20, \" Head \", \"#\"*20)\n",
    "print(dataframe.head())\n",
    "print(\"#\"*20, \" Tail \", \"#\"*20)\n",
    "print(dataframe.tail())\n",
    "print(\"#\"*20, \" NA \", \"#\"*20)\n",
    "print(dataframe.isnull().sum())\n",
    "print(\"#\"*20, \" Quantiles\" , \"#\"*20)\n",
    "print(dataframe.quantile([0, 0.05, 0.50, 0.95, 0.99, 1]).T)"
   ]
  },
  {
   "cell_type": "code",
   "execution_count": 5,
   "id": "55e955d0-6e66-4269-a07c-0bc61fe2f635",
   "metadata": {
    "tags": []
   },
   "outputs": [
    {
     "name": "stdout",
     "output_type": "stream",
     "text": [
      "Observations: 891\n",
      "Variables: 12\n",
      "cat_cols: 6 col names: ['Sex', 'Embarked', 'Survived', 'Pclass', 'SibSp', 'Parch']\n",
      "num_cols: 3 col names: ['PassengerId', 'Age', 'Fare']\n",
      "cat_but_car: 3 col names: ['Name', 'Ticket', 'Cabin']\n",
      "num_but_cat: 4 col names: ['Survived', 'Pclass', 'SibSp', 'Parch']\n"
     ]
    }
   ],
   "source": [
    "# Storing Variables\n",
    "cat_cols = [col for col in dataframe.columns if dataframe[col].dtypes == \"O\"]\n",
    "num_but_cat = [col for col in dataframe.columns if dataframe[col].nunique() < 10 and dataframe[col].dtypes != \"O\"]\n",
    "    \n",
    "cat_but_car = [col for col in dataframe.columns if dataframe[col].nunique() > 20 and dataframe[col].dtypes == \"O\"]\n",
    "    \n",
    "cat_cols = cat_cols + num_but_cat\n",
    "cat_cols = [col for col in cat_cols if col not in cat_but_car]\n",
    "    \n",
    "# num_cols\n",
    "num_cols = [col for col in dataframe.columns if dataframe[col].dtypes != \"O\"]\n",
    "num_cols = [col for col in num_cols if col not in num_but_cat]\n",
    "    \n",
    "cols = [dataframe.columns]\n",
    "print(f'Observations: {dataframe.shape[0]}')\n",
    "print(f'Variables: {dataframe.shape[1]}')\n",
    "print(f'cat_cols: {len(cat_cols)} col names: {cat_cols}')\n",
    "print(f'num_cols: {len(num_cols)} col names: {num_cols}')\n",
    "print(f'cat_but_car: {len(cat_but_car)} col names: {cat_but_car}')\n",
    "print(f'num_but_cat: {len(num_but_cat)} col names: {num_but_cat}')"
   ]
  },
  {
   "cell_type": "code",
   "execution_count": 6,
   "id": "e85ad16d-e4c2-4f97-8414-ecd89e643609",
   "metadata": {
    "tags": []
   },
   "outputs": [],
   "source": [
    "# Categorical Variable Analysis"
   ]
  },
  {
   "cell_type": "code",
   "execution_count": 7,
   "id": "2759aaa5-b8b0-4e12-881d-4ef0cc2b5448",
   "metadata": {
    "tags": []
   },
   "outputs": [
    {
     "name": "stdout",
     "output_type": "stream",
     "text": [
      "        Sex  Ratio\n",
      "male    577 64.759\n",
      "female  314 35.241\n",
      "####################\n",
      "   Embarked  Ratio\n",
      "S       644 72.278\n",
      "C       168 18.855\n",
      "Q        77  8.642\n",
      "####################\n",
      "   Survived  Ratio\n",
      "0       549 61.616\n",
      "1       342 38.384\n",
      "####################\n",
      "   Pclass  Ratio\n",
      "3     491 55.107\n",
      "1     216 24.242\n",
      "2     184 20.651\n",
      "####################\n",
      "   SibSp  Ratio\n",
      "0    608 68.238\n",
      "1    209 23.457\n",
      "2     28  3.143\n",
      "4     18  2.020\n",
      "3     16  1.796\n",
      "8      7  0.786\n",
      "5      5  0.561\n",
      "####################\n",
      "   Parch  Ratio\n",
      "0    678 76.094\n",
      "1    118 13.244\n",
      "2     80  8.979\n",
      "5      5  0.561\n",
      "3      5  0.561\n",
      "4      4  0.449\n",
      "6      1  0.112\n",
      "####################\n"
     ]
    }
   ],
   "source": [
    "for col_name in dataframe[cat_cols]:\n",
    "    print(pd.DataFrame({col_name: dataframe[col_name].value_counts(),\n",
    "                       \"Ratio\": 100 * dataframe[col_name].value_counts() / len(dataframe)}))\n",
    "    print(\"#\"*20)"
   ]
  },
  {
   "cell_type": "code",
   "execution_count": 8,
   "id": "86d76912-1cc1-487e-a951-56d7a0f8075d",
   "metadata": {
    "tags": []
   },
   "outputs": [],
   "source": [
    "# Numerical values overview"
   ]
  },
  {
   "cell_type": "code",
   "execution_count": 9,
   "id": "583474e0-0ea6-4ff9-b661-94ca73e77cec",
   "metadata": {
    "tags": []
   },
   "outputs": [
    {
     "data": {
      "text/html": [
       "<div>\n",
       "<style scoped>\n",
       "    .dataframe tbody tr th:only-of-type {\n",
       "        vertical-align: middle;\n",
       "    }\n",
       "\n",
       "    .dataframe tbody tr th {\n",
       "        vertical-align: top;\n",
       "    }\n",
       "\n",
       "    .dataframe thead th {\n",
       "        text-align: right;\n",
       "    }\n",
       "</style>\n",
       "<table border=\"1\" class=\"dataframe\">\n",
       "  <thead>\n",
       "    <tr style=\"text-align: right;\">\n",
       "      <th></th>\n",
       "      <th>count</th>\n",
       "      <th>mean</th>\n",
       "      <th>std</th>\n",
       "      <th>min</th>\n",
       "      <th>25%</th>\n",
       "      <th>50%</th>\n",
       "      <th>75%</th>\n",
       "      <th>max</th>\n",
       "    </tr>\n",
       "  </thead>\n",
       "  <tbody>\n",
       "    <tr>\n",
       "      <th>PassengerId</th>\n",
       "      <td>891.000</td>\n",
       "      <td>446.000</td>\n",
       "      <td>257.354</td>\n",
       "      <td>1.000</td>\n",
       "      <td>223.500</td>\n",
       "      <td>446.000</td>\n",
       "      <td>668.500</td>\n",
       "      <td>891.000</td>\n",
       "    </tr>\n",
       "    <tr>\n",
       "      <th>Age</th>\n",
       "      <td>714.000</td>\n",
       "      <td>29.699</td>\n",
       "      <td>14.526</td>\n",
       "      <td>0.420</td>\n",
       "      <td>20.125</td>\n",
       "      <td>28.000</td>\n",
       "      <td>38.000</td>\n",
       "      <td>80.000</td>\n",
       "    </tr>\n",
       "    <tr>\n",
       "      <th>Fare</th>\n",
       "      <td>891.000</td>\n",
       "      <td>32.204</td>\n",
       "      <td>49.693</td>\n",
       "      <td>0.000</td>\n",
       "      <td>7.910</td>\n",
       "      <td>14.454</td>\n",
       "      <td>31.000</td>\n",
       "      <td>512.329</td>\n",
       "    </tr>\n",
       "  </tbody>\n",
       "</table>\n",
       "</div>"
      ],
      "text/plain": [
       "              count    mean     std   min     25%     50%     75%     max\n",
       "PassengerId 891.000 446.000 257.354 1.000 223.500 446.000 668.500 891.000\n",
       "Age         714.000  29.699  14.526 0.420  20.125  28.000  38.000  80.000\n",
       "Fare        891.000  32.204  49.693 0.000   7.910  14.454  31.000 512.329"
      ]
     },
     "execution_count": 9,
     "metadata": {},
     "output_type": "execute_result"
    }
   ],
   "source": [
    "dataframe[num_cols].describe().T"
   ]
  },
  {
   "cell_type": "code",
   "execution_count": 10,
   "id": "90091f2a-e5ba-4244-86fc-0c22042e3f94",
   "metadata": {
    "tags": []
   },
   "outputs": [],
   "source": [
    "# Detailed Numerical Value Analysis"
   ]
  },
  {
   "cell_type": "code",
   "execution_count": 11,
   "id": "f66438c1-93cf-48b6-8758-b11b9d87d30a",
   "metadata": {
    "tags": []
   },
   "outputs": [
    {
     "name": "stdout",
     "output_type": "stream",
     "text": [
      "              count    mean     std   min     5%    10%     20%     30%  \\\n",
      "PassengerId 891.000 446.000 257.354 1.000 45.500 90.000 179.000 268.000   \n",
      "\n",
      "                40%     50%     60%     70%     90%     95%     99%     max  \n",
      "PassengerId 357.000 446.000 535.000 624.000 802.000 846.500 882.100 891.000  \n"
     ]
    },
    {
     "data": {
      "image/png": "[encoded data removed]",
      "text/plain": [
       "<Figure size 640x480 with 1 Axes>"
      ]
     },
     "metadata": {},
     "output_type": "display_data"
    },
    {
     "name": "stdout",
     "output_type": "stream",
     "text": [
      "      count   mean    std   min    5%    10%    20%    30%    40%    50%  \\\n",
      "Age 714.000 29.699 14.526 0.420 4.000 14.000 19.000 22.000 25.000 28.000   \n",
      "\n",
      "       60%    70%    90%    95%    99%    max  \n",
      "Age 31.800 36.000 50.000 56.000 65.870 80.000  \n"
     ]
    },
    {
     "data": {
      "image/png": "[encoded data removed]",
      "text/plain": [
       "<Figure size 640x480 with 1 Axes>"
      ]
     },
     "metadata": {},
     "output_type": "display_data"
    },
    {
     "name": "stdout",
     "output_type": "stream",
     "text": [
      "       count   mean    std   min    5%   10%   20%   30%    40%    50%    60%  \\\n",
      "Fare 891.000 32.204 49.693 0.000 7.225 7.550 7.854 8.050 10.500 14.454 21.679   \n",
      "\n",
      "        70%    90%     95%     99%     max  \n",
      "Fare 27.000 77.958 112.079 249.006 512.329  \n"
     ]
    },
    {
     "data": {
      "image/png": "[encoded data removed]",
      "text/plain": [
       "<Figure size 640x480 with 1 Axes>"
      ]
     },
     "metadata": {},
     "output_type": "display_data"
    }
   ],
   "source": [
    "for col_name in dataframe[num_cols]:\n",
    "    quantiles = [0.05, 0.10, 0.20, 0.30, 0.40, 0.50, 0.60, 0.70, 0.90, 0.95, 0.99]\n",
    "    print(pd.DataFrame(dataframe[col_name].describe(quantiles)).T)\n",
    "    \n",
    "    g = sns.histplot(x=dataframe[col_name],\n",
    "                        data=dataframe,\n",
    "                        bins=20)\n",
    "    g.set_title(col_name)\n",
    "    g.set(xlabel=col_name)\n",
    "    plt.show()"
   ]
  },
  {
   "cell_type": "code",
   "execution_count": 12,
   "id": "df82ab97-55c1-4fdd-b517-60235e2b4d82",
   "metadata": {
    "tags": []
   },
   "outputs": [],
   "source": [
    "# Outlier Analysis"
   ]
  },
  {
   "cell_type": "code",
   "execution_count": 13,
   "id": "d39bb501-7cc1-45d3-859f-0405a5f88856",
   "metadata": {
    "tags": []
   },
   "outputs": [
    {
     "name": "stdout",
     "output_type": "stream",
     "text": [
      "{'PassengerId'} : Outlier yok\n",
      "{'Age'} : Outlier yok\n",
      "{'Fare'} : Outlier yok\n"
     ]
    }
   ],
   "source": [
    "q1 = 0.01\n",
    "q3 = 0.99\n",
    "for col_name in dataframe[num_cols]:\n",
    "    quartile1 = dataframe[col_name].quantile(q1)\n",
    "    quartile3 = dataframe[col_name].quantile(q3)\n",
    "    interquartile_range = quartile3 - quartile1\n",
    "    up_limit = quartile3 + interquartile_range * 1.5\n",
    "    low_limit = quartile1 - interquartile_range * 1.5\n",
    "    if dataframe[(dataframe[col_name] > up_limit) | (dataframe[col_name] < low_limit)].any(axis=None):\n",
    "        print({col_name}, \": Outlier var\")\n",
    "    else:\n",
    "        print({col_name}, \": Outlier yok\")"
   ]
  },
  {
   "cell_type": "code",
   "execution_count": 14,
   "id": "29c1d2f0-24c3-4afb-af82-1e885c0a8efa",
   "metadata": {
    "tags": []
   },
   "outputs": [],
   "source": [
    "# Target Variable Analysis"
   ]
  },
  {
   "cell_type": "code",
   "execution_count": 15,
   "id": "c2c85fed-2f7c-4127-8d28-cbfcc080aa45",
   "metadata": {
    "tags": []
   },
   "outputs": [
    {
     "name": "stdout",
     "output_type": "stream",
     "text": [
      "          PassengerId\n",
      "Survived             \n",
      "0             447.016\n",
      "1             444.368\n",
      "\n",
      "\n",
      "            Age\n",
      "Survived       \n",
      "0        30.626\n",
      "1        28.344\n",
      "\n",
      "\n",
      "           Fare\n",
      "Survived       \n",
      "0        22.118\n",
      "1        48.395\n",
      "\n",
      "\n",
      "################################################## \n",
      "\n",
      "\n",
      "        TARGET_MEAN\n",
      "Sex                \n",
      "female        0.742\n",
      "male          0.189\n",
      "\n",
      "\n",
      "          TARGET_MEAN\n",
      "Embarked             \n",
      "C               0.554\n",
      "Q               0.390\n",
      "S               0.337\n",
      "\n",
      "\n",
      "          TARGET_MEAN\n",
      "Survived             \n",
      "0               0.000\n",
      "1               1.000\n",
      "\n",
      "\n",
      "        TARGET_MEAN\n",
      "Pclass             \n",
      "1             0.630\n",
      "2             0.473\n",
      "3             0.242\n",
      "\n",
      "\n",
      "       TARGET_MEAN\n",
      "SibSp             \n",
      "0            0.345\n",
      "1            0.536\n",
      "2            0.464\n",
      "3            0.250\n",
      "4            0.167\n",
      "5            0.000\n",
      "8            0.000\n",
      "\n",
      "\n",
      "       TARGET_MEAN\n",
      "Parch             \n",
      "0            0.344\n",
      "1            0.551\n",
      "2            0.500\n",
      "3            0.600\n",
      "4            0.000\n",
      "5            0.200\n",
      "6            0.000\n",
      "\n",
      "\n"
     ]
    }
   ],
   "source": [
    "# Averages of numerical variables accoring to target\n",
    "for numerical_col in num_cols:    \n",
    "    print(dataframe.groupby(\"Survived\").agg({numerical_col: \"mean\"}), end=\"\\n\\n\\n\")\n",
    "print(\"#\"*50, \"\\n\\n\")\n",
    "for categorical_col in cat_cols:\n",
    "    print(pd.DataFrame({\"TARGET_MEAN\": dataframe.groupby(categorical_col)[\"Survived\"].mean()}), end=\"\\n\\n\\n\")"
   ]
  },
  {
   "cell_type": "code",
   "execution_count": 16,
   "id": "02883a36-db06-4bc9-bc2d-1b699ed5ac92",
   "metadata": {
    "tags": []
   },
   "outputs": [],
   "source": [
    "# Correlation Overview"
   ]
  },
  {
   "cell_type": "code",
   "execution_count": 17,
   "id": "05c85a64-327d-4516-8ae9-ffb6661ded54",
   "metadata": {
    "tags": []
   },
   "outputs": [
    {
     "data": {
      "text/plain": [
       "<Axes: >"
      ]
     },
     "execution_count": 17,
     "metadata": {},
     "output_type": "execute_result"
    },
    {
     "data": {
      "image/png": "[encoded data removed]",
      "text/plain": [
       "<Figure size 640x480 with 2 Axes>"
      ]
     },
     "metadata": {},
     "output_type": "display_data"
    }
   ],
   "source": [
    "sns.heatmap(dataframe.corr(),\n",
    "                     annot=True,\n",
    "                     linewidths=0.5,\n",
    "                     annot_kws={\"size\": 12},\n",
    "                     linecolor=\"w\",\n",
    "                     cmap=\"RdBu\")"
   ]
  },
  {
   "cell_type": "markdown",
   "id": "b3fea405-3996-42dc-b96a-1a7335bd08bc",
   "metadata": {
    "tags": []
   },
   "source": [
    "# Feature Engineering"
   ]
  },
  {
   "cell_type": "code",
   "execution_count": 18,
   "id": "2ee14396-3e5d-4eba-8196-58e9a2a27023",
   "metadata": {
    "tags": []
   },
   "outputs": [
    {
     "name": "stdout",
     "output_type": "stream",
     "text": [
      "PassengerId      0\n",
      "Survived         0\n",
      "Pclass           0\n",
      "Name             0\n",
      "Sex              0\n",
      "Age            177\n",
      "SibSp            0\n",
      "Parch            0\n",
      "Ticket           0\n",
      "Fare             0\n",
      "Cabin          687\n",
      "Embarked         2\n",
      "dtype: int64\n",
      "\n",
      "\n",
      "\n",
      "PassengerId      0\n",
      "Pclass           0\n",
      "Name             0\n",
      "Sex              0\n",
      "Age             86\n",
      "SibSp            0\n",
      "Parch            0\n",
      "Ticket           0\n",
      "Fare             1\n",
      "Cabin          327\n",
      "Embarked         0\n",
      "dtype: int64\n",
      "\n",
      "\n",
      "\n"
     ]
    }
   ],
   "source": [
    "for data in all_data:\n",
    "    print(data.isnull().sum())\n",
    "    print(\"\\n\\n\")"
   ]
  },
  {
   "cell_type": "code",
   "execution_count": 19,
   "id": "b0b442dc-0c98-4f98-91d0-787263c73584",
   "metadata": {
    "tags": []
   },
   "outputs": [],
   "source": [
    "# Filling Null Values"
   ]
  },
  {
   "cell_type": "code",
   "execution_count": 20,
   "id": "81a83ed4-f5ed-436c-b1c6-a5bb523d5434",
   "metadata": {
    "tags": []
   },
   "outputs": [],
   "source": [
    "dataframe['Embarked'].fillna(dataframe['Embarked'].mode()[0], inplace = True)\n",
    "dataframe_test['Fare'].fillna(dataframe_test['Fare'].median(), inplace = True)\n",
    "\n",
    "dataframe['Age'].fillna(dataframe['Age'].median(), inplace = True)\n",
    "dataframe_test['Age'].fillna(dataframe_test['Age'].median(), inplace = True)"
   ]
  },
  {
   "cell_type": "code",
   "execution_count": 21,
   "id": "9204b6fc-7874-4c2e-82dc-eb73a2610ab3",
   "metadata": {
    "tags": []
   },
   "outputs": [],
   "source": [
    "# Creating New Features\n",
    "for dataset in all_data:\n",
    "    dataset['FamilySize'] = dataset['SibSp'] + dataset['Parch'] + 1\n",
    "\n",
    "    dataset[\"Title\"] = dataset[\"Name\"].str.split(\", \", expand = True)[1].str.split(\".\", expand = True)[0]\n",
    "    \n",
    "    dataset['Age_bin'] = pd.cut(dataset['Age'], bins=[0,12,20,40,120], labels=['Children','Teenage','Adult','Elder'])\n",
    "\n",
    "    dataset['Fare_bin'] = pd.cut(dataset['Fare'], bins=[0,7.91,14.45,31,120], labels=['Low_fare','median_fare',\n",
    "                                                                                      'Average_fare','high_fare'])"
   ]
  },
  {
   "cell_type": "code",
   "execution_count": 22,
   "id": "7b2616d7-1275-4d2d-86d7-c47042268594",
   "metadata": {
    "tags": []
   },
   "outputs": [
    {
     "data": {
      "text/html": [
       "<div>\n",
       "<style scoped>\n",
       "    .dataframe tbody tr th:only-of-type {\n",
       "        vertical-align: middle;\n",
       "    }\n",
       "\n",
       "    .dataframe tbody tr th {\n",
       "        vertical-align: top;\n",
       "    }\n",
       "\n",
       "    .dataframe thead th {\n",
       "        text-align: right;\n",
       "    }\n",
       "</style>\n",
       "<table border=\"1\" class=\"dataframe\">\n",
       "  <thead>\n",
       "    <tr style=\"text-align: right;\">\n",
       "      <th></th>\n",
       "      <th>Title</th>\n",
       "    </tr>\n",
       "    <tr>\n",
       "      <th>Title</th>\n",
       "      <th></th>\n",
       "    </tr>\n",
       "  </thead>\n",
       "  <tbody>\n",
       "    <tr>\n",
       "      <th>Capt</th>\n",
       "      <td>1</td>\n",
       "    </tr>\n",
       "    <tr>\n",
       "      <th>Col</th>\n",
       "      <td>2</td>\n",
       "    </tr>\n",
       "    <tr>\n",
       "      <th>Don</th>\n",
       "      <td>1</td>\n",
       "    </tr>\n",
       "    <tr>\n",
       "      <th>Dr</th>\n",
       "      <td>7</td>\n",
       "    </tr>\n",
       "    <tr>\n",
       "      <th>Jonkheer</th>\n",
       "      <td>1</td>\n",
       "    </tr>\n",
       "    <tr>\n",
       "      <th>Lady</th>\n",
       "      <td>1</td>\n",
       "    </tr>\n",
       "    <tr>\n",
       "      <th>Major</th>\n",
       "      <td>2</td>\n",
       "    </tr>\n",
       "    <tr>\n",
       "      <th>Master</th>\n",
       "      <td>40</td>\n",
       "    </tr>\n",
       "    <tr>\n",
       "      <th>Miss</th>\n",
       "      <td>182</td>\n",
       "    </tr>\n",
       "    <tr>\n",
       "      <th>Mlle</th>\n",
       "      <td>2</td>\n",
       "    </tr>\n",
       "    <tr>\n",
       "      <th>Mme</th>\n",
       "      <td>1</td>\n",
       "    </tr>\n",
       "    <tr>\n",
       "      <th>Mr</th>\n",
       "      <td>517</td>\n",
       "    </tr>\n",
       "    <tr>\n",
       "      <th>Mrs</th>\n",
       "      <td>125</td>\n",
       "    </tr>\n",
       "    <tr>\n",
       "      <th>Ms</th>\n",
       "      <td>1</td>\n",
       "    </tr>\n",
       "    <tr>\n",
       "      <th>Rev</th>\n",
       "      <td>6</td>\n",
       "    </tr>\n",
       "    <tr>\n",
       "      <th>Sir</th>\n",
       "      <td>1</td>\n",
       "    </tr>\n",
       "    <tr>\n",
       "      <th>the Countess</th>\n",
       "      <td>1</td>\n",
       "    </tr>\n",
       "  </tbody>\n",
       "</table>\n",
       "</div>"
      ],
      "text/plain": [
       "              Title\n",
       "Title              \n",
       "Capt              1\n",
       "Col               2\n",
       "Don               1\n",
       "Dr                7\n",
       "Jonkheer          1\n",
       "Lady              1\n",
       "Major             2\n",
       "Master           40\n",
       "Miss            182\n",
       "Mlle              2\n",
       "Mme               1\n",
       "Mr              517\n",
       "Mrs             125\n",
       "Ms                1\n",
       "Rev               6\n",
       "Sir               1\n",
       "the Countess      1"
      ]
     },
     "execution_count": 22,
     "metadata": {},
     "output_type": "execute_result"
    }
   ],
   "source": [
    "dataframe.groupby(\"Title\").agg({\"Title\":\"count\"})"
   ]
  },
  {
   "cell_type": "code",
   "execution_count": 23,
   "id": "474d73eb-784e-4dd5-a845-ca9f58bdf81e",
   "metadata": {
    "tags": []
   },
   "outputs": [],
   "source": [
    "for dataset in all_data:\n",
    "    dataset['Title'] = dataset['Title'].replace(['Lady', 'the Countess', 'the Countless','Capt', 'Col','Don', \n",
    "                                                 'Dr', 'Major', 'Rev', 'Sir', 'Jonkheer', 'Dona'], 'Rare')\n",
    "\n",
    "    dataset['Title'] = dataset['Title'].replace('Mlle', 'Miss')\n",
    "    dataset['Title'] = dataset['Title'].replace('Ms', 'Miss')\n",
    "    dataset['Title'] = dataset['Title'].replace('Mme', 'Mrs')\n",
    "    \n",
    "    # Deleting columns that not include information\n",
    "    dataset.drop([\"PassengerId\", \"Name\", \"Cabin\", \"Ticket\"], axis=1, inplace = True)"
   ]
  },
  {
   "cell_type": "code",
   "execution_count": 24,
   "id": "d5f31c06-69d5-43d2-917c-d43cdb9448ee",
   "metadata": {
    "tags": []
   },
   "outputs": [
    {
     "name": "stdout",
     "output_type": "stream",
     "text": [
      "Observations: 891\n",
      "Variables: 12\n",
      "cat_cols: 10 col names: ['Sex', 'Embarked', 'Title', 'Survived', 'Pclass', 'SibSp', 'Parch', 'FamilySize', 'Age_bin', 'Fare_bin']\n",
      "num_cols: 2 col names: ['Age', 'Fare']\n",
      "cat_but_car: 0 col names: []\n",
      "num_but_cat: 7 col names: ['Survived', 'Pclass', 'SibSp', 'Parch', 'FamilySize', 'Age_bin', 'Fare_bin']\n"
     ]
    }
   ],
   "source": [
    "# Storing Variables - 2\n",
    "\n",
    "cat_cols = [col for col in dataframe.columns if dataframe[col].dtypes == \"O\"]\n",
    "num_but_cat = [col for col in dataframe.columns if dataframe[col].nunique() < 10 and dataframe[col].dtypes != \"O\"]\n",
    "    \n",
    "cat_but_car = [col for col in dataframe.columns if dataframe[col].nunique() > 20 and dataframe[col].dtypes == \"O\"]\n",
    "    \n",
    "cat_cols = cat_cols + num_but_cat\n",
    "cat_cols = [col for col in cat_cols if col not in cat_but_car]\n",
    "    \n",
    "# num_cols\n",
    "num_cols = [col for col in dataframe.columns if dataframe[col].dtypes != \"O\"]\n",
    "num_cols = [col for col in num_cols if col not in num_but_cat]\n",
    "    \n",
    "cols = [dataframe.columns]\n",
    "print(f'Observations: {dataframe.shape[0]}')\n",
    "print(f'Variables: {dataframe.shape[1]}')\n",
    "print(f'cat_cols: {len(cat_cols)} col names: {cat_cols}')\n",
    "print(f'num_cols: {len(num_cols)} col names: {num_cols}')\n",
    "print(f'cat_but_car: {len(cat_but_car)} col names: {cat_but_car}')\n",
    "print(f'num_but_cat: {len(num_but_cat)} col names: {num_but_cat}')"
   ]
  },
  {
   "cell_type": "code",
   "execution_count": 25,
   "id": "62960c28-7196-40a7-9c45-54996eb25f1f",
   "metadata": {
    "tags": []
   },
   "outputs": [],
   "source": [
    "cat_cols = [col for col in cat_cols if \"Survived\" not in col]"
   ]
  },
  {
   "cell_type": "code",
   "execution_count": 26,
   "id": "54dcc7f9-fc64-4406-97fb-0b1d176abe6a",
   "metadata": {
    "tags": []
   },
   "outputs": [
    {
     "data": {
      "text/plain": [
       "['Age', 'Fare']"
      ]
     },
     "execution_count": 26,
     "metadata": {},
     "output_type": "execute_result"
    }
   ],
   "source": [
    "num_cols"
   ]
  },
  {
   "cell_type": "code",
   "execution_count": 27,
   "id": "5b147e00-aad6-48c3-ba80-ede6060bea83",
   "metadata": {
    "tags": []
   },
   "outputs": [
    {
     "data": {
      "text/html": [
       "<div>\n",
       "<style scoped>\n",
       "    .dataframe tbody tr th:only-of-type {\n",
       "        vertical-align: middle;\n",
       "    }\n",
       "\n",
       "    .dataframe tbody tr th {\n",
       "        vertical-align: top;\n",
       "    }\n",
       "\n",
       "    .dataframe thead th {\n",
       "        text-align: right;\n",
       "    }\n",
       "</style>\n",
       "<table border=\"1\" class=\"dataframe\">\n",
       "  <thead>\n",
       "    <tr style=\"text-align: right;\">\n",
       "      <th></th>\n",
       "      <th>Survived</th>\n",
       "      <th>Pclass</th>\n",
       "      <th>Sex</th>\n",
       "      <th>Age</th>\n",
       "      <th>SibSp</th>\n",
       "      <th>Parch</th>\n",
       "      <th>Fare</th>\n",
       "      <th>Embarked</th>\n",
       "      <th>FamilySize</th>\n",
       "      <th>Title</th>\n",
       "      <th>Age_bin</th>\n",
       "      <th>Fare_bin</th>\n",
       "    </tr>\n",
       "  </thead>\n",
       "  <tbody>\n",
       "    <tr>\n",
       "      <th>0</th>\n",
       "      <td>0</td>\n",
       "      <td>3</td>\n",
       "      <td>male</td>\n",
       "      <td>22.000</td>\n",
       "      <td>1</td>\n",
       "      <td>0</td>\n",
       "      <td>7.250</td>\n",
       "      <td>S</td>\n",
       "      <td>2</td>\n",
       "      <td>Mr</td>\n",
       "      <td>Adult</td>\n",
       "      <td>Low_fare</td>\n",
       "    </tr>\n",
       "  </tbody>\n",
       "</table>\n",
       "</div>"
      ],
      "text/plain": [
       "   Survived  Pclass   Sex    Age  SibSp  Parch  Fare Embarked  FamilySize  \\\n",
       "0         0       3  male 22.000      1      0 7.250        S           2   \n",
       "\n",
       "  Title Age_bin  Fare_bin  \n",
       "0    Mr   Adult  Low_fare  "
      ]
     },
     "execution_count": 27,
     "metadata": {},
     "output_type": "execute_result"
    }
   ],
   "source": [
    "dataframe.head(1)"
   ]
  },
  {
   "cell_type": "code",
   "execution_count": 28,
   "id": "cfac5849-54df-4f67-9bc6-24a5f6f5b102",
   "metadata": {},
   "outputs": [],
   "source": [
    "# Deciding to Is Parch Variable really a categorical?"
   ]
  },
  {
   "cell_type": "code",
   "execution_count": 29,
   "id": "10bc57d9-ba02-42da-8fad-cf6311b7123a",
   "metadata": {
    "tags": []
   },
   "outputs": [
    {
     "data": {
      "text/html": [
       "<div>\n",
       "<style scoped>\n",
       "    .dataframe tbody tr th:only-of-type {\n",
       "        vertical-align: middle;\n",
       "    }\n",
       "\n",
       "    .dataframe tbody tr th {\n",
       "        vertical-align: top;\n",
       "    }\n",
       "\n",
       "    .dataframe thead th {\n",
       "        text-align: right;\n",
       "    }\n",
       "</style>\n",
       "<table border=\"1\" class=\"dataframe\">\n",
       "  <thead>\n",
       "    <tr style=\"text-align: right;\">\n",
       "      <th></th>\n",
       "      <th>Parch</th>\n",
       "    </tr>\n",
       "    <tr>\n",
       "      <th>Parch</th>\n",
       "      <th></th>\n",
       "    </tr>\n",
       "  </thead>\n",
       "  <tbody>\n",
       "    <tr>\n",
       "      <th>0</th>\n",
       "      <td>324</td>\n",
       "    </tr>\n",
       "    <tr>\n",
       "      <th>1</th>\n",
       "      <td>52</td>\n",
       "    </tr>\n",
       "    <tr>\n",
       "      <th>2</th>\n",
       "      <td>33</td>\n",
       "    </tr>\n",
       "    <tr>\n",
       "      <th>3</th>\n",
       "      <td>3</td>\n",
       "    </tr>\n",
       "    <tr>\n",
       "      <th>4</th>\n",
       "      <td>2</td>\n",
       "    </tr>\n",
       "    <tr>\n",
       "      <th>5</th>\n",
       "      <td>1</td>\n",
       "    </tr>\n",
       "    <tr>\n",
       "      <th>6</th>\n",
       "      <td>1</td>\n",
       "    </tr>\n",
       "    <tr>\n",
       "      <th>9</th>\n",
       "      <td>2</td>\n",
       "    </tr>\n",
       "  </tbody>\n",
       "</table>\n",
       "</div>"
      ],
      "text/plain": [
       "       Parch\n",
       "Parch       \n",
       "0        324\n",
       "1         52\n",
       "2         33\n",
       "3          3\n",
       "4          2\n",
       "5          1\n",
       "6          1\n",
       "9          2"
      ]
     },
     "execution_count": 29,
     "metadata": {},
     "output_type": "execute_result"
    }
   ],
   "source": [
    "dataframe_test.groupby(\"Parch\").agg({\"Parch\":\"count\"})"
   ]
  },
  {
   "cell_type": "code",
   "execution_count": 30,
   "id": "cafb7625-02ad-483b-9c47-bf941178eda7",
   "metadata": {},
   "outputs": [
    {
     "data": {
      "text/html": [
       "<div>\n",
       "<style scoped>\n",
       "    .dataframe tbody tr th:only-of-type {\n",
       "        vertical-align: middle;\n",
       "    }\n",
       "\n",
       "    .dataframe tbody tr th {\n",
       "        vertical-align: top;\n",
       "    }\n",
       "\n",
       "    .dataframe thead th {\n",
       "        text-align: right;\n",
       "    }\n",
       "</style>\n",
       "<table border=\"1\" class=\"dataframe\">\n",
       "  <thead>\n",
       "    <tr style=\"text-align: right;\">\n",
       "      <th></th>\n",
       "      <th>Parch</th>\n",
       "    </tr>\n",
       "    <tr>\n",
       "      <th>Parch</th>\n",
       "      <th></th>\n",
       "    </tr>\n",
       "  </thead>\n",
       "  <tbody>\n",
       "    <tr>\n",
       "      <th>0</th>\n",
       "      <td>678</td>\n",
       "    </tr>\n",
       "    <tr>\n",
       "      <th>1</th>\n",
       "      <td>118</td>\n",
       "    </tr>\n",
       "    <tr>\n",
       "      <th>2</th>\n",
       "      <td>80</td>\n",
       "    </tr>\n",
       "    <tr>\n",
       "      <th>3</th>\n",
       "      <td>5</td>\n",
       "    </tr>\n",
       "    <tr>\n",
       "      <th>4</th>\n",
       "      <td>4</td>\n",
       "    </tr>\n",
       "    <tr>\n",
       "      <th>5</th>\n",
       "      <td>5</td>\n",
       "    </tr>\n",
       "    <tr>\n",
       "      <th>6</th>\n",
       "      <td>1</td>\n",
       "    </tr>\n",
       "  </tbody>\n",
       "</table>\n",
       "</div>"
      ],
      "text/plain": [
       "       Parch\n",
       "Parch       \n",
       "0        678\n",
       "1        118\n",
       "2         80\n",
       "3          5\n",
       "4          4\n",
       "5          5\n",
       "6          1"
      ]
     },
     "execution_count": 30,
     "metadata": {},
     "output_type": "execute_result"
    }
   ],
   "source": [
    "dataframe.groupby(\"Parch\").agg({\"Parch\":\"count\"})"
   ]
  },
  {
   "cell_type": "code",
   "execution_count": 31,
   "id": "2a068751-7f37-4f59-b7df-7191de35471b",
   "metadata": {
    "tags": []
   },
   "outputs": [
    {
     "data": {
      "text/plain": [
       "['Sex',\n",
       " 'Embarked',\n",
       " 'Title',\n",
       " 'Pclass',\n",
       " 'SibSp',\n",
       " 'FamilySize',\n",
       " 'Age_bin',\n",
       " 'Fare_bin']"
      ]
     },
     "execution_count": 31,
     "metadata": {},
     "output_type": "execute_result"
    }
   ],
   "source": [
    "cat_cols = [col for col in cat_cols if \"Parch\" not in col]\n",
    "cat_cols"
   ]
  },
  {
   "cell_type": "code",
   "execution_count": 32,
   "id": "b1e4be80-7142-4095-b5b0-2b683546969b",
   "metadata": {
    "tags": []
   },
   "outputs": [],
   "source": [
    "# Encoding for categorical Columns\n",
    "\n",
    "cat_cols = ['Sex','Embarked','Title','Pclass','SibSp','FamilySize','Age_bin','Fare_bin']\n",
    "\n",
    "def one_hot_encoder(dataframe, categorical_cols, drop_first=True):\n",
    "    dataframe = pd.get_dummies(dataframe, columns = categorical_cols, drop_first=drop_first)\n",
    "    return dataframe\n",
    "\n",
    "dataframe = one_hot_encoder(dataframe, cat_cols, drop_first=True)\n",
    "\n",
    "y = dataframe[\"Survived\"]\n",
    "X = dataframe.drop([\"Survived\"], axis=1)"
   ]
  },
  {
   "cell_type": "code",
   "execution_count": 33,
   "id": "4e701e9f-5ce8-472f-a6d8-e0089494c12f",
   "metadata": {
    "tags": []
   },
   "outputs": [
    {
     "data": {
      "text/html": [
       "<div>\n",
       "<style scoped>\n",
       "    .dataframe tbody tr th:only-of-type {\n",
       "        vertical-align: middle;\n",
       "    }\n",
       "\n",
       "    .dataframe tbody tr th {\n",
       "        vertical-align: top;\n",
       "    }\n",
       "\n",
       "    .dataframe thead th {\n",
       "        text-align: right;\n",
       "    }\n",
       "</style>\n",
       "<table border=\"1\" class=\"dataframe\">\n",
       "  <thead>\n",
       "    <tr style=\"text-align: right;\">\n",
       "      <th></th>\n",
       "      <th>Age</th>\n",
       "      <th>Parch</th>\n",
       "      <th>Fare</th>\n",
       "      <th>Sex_male</th>\n",
       "      <th>Embarked_Q</th>\n",
       "      <th>Embarked_S</th>\n",
       "      <th>Title_Miss</th>\n",
       "      <th>Title_Mr</th>\n",
       "      <th>Title_Mrs</th>\n",
       "      <th>Title_Rare</th>\n",
       "      <th>Pclass_2</th>\n",
       "      <th>Pclass_3</th>\n",
       "      <th>SibSp_1</th>\n",
       "      <th>SibSp_2</th>\n",
       "      <th>SibSp_3</th>\n",
       "      <th>SibSp_4</th>\n",
       "      <th>SibSp_5</th>\n",
       "      <th>SibSp_8</th>\n",
       "      <th>FamilySize_2</th>\n",
       "      <th>FamilySize_3</th>\n",
       "      <th>FamilySize_4</th>\n",
       "      <th>FamilySize_5</th>\n",
       "      <th>FamilySize_6</th>\n",
       "      <th>FamilySize_7</th>\n",
       "      <th>FamilySize_8</th>\n",
       "      <th>FamilySize_11</th>\n",
       "      <th>Age_bin_Teenage</th>\n",
       "      <th>Age_bin_Adult</th>\n",
       "      <th>Age_bin_Elder</th>\n",
       "      <th>Fare_bin_median_fare</th>\n",
       "      <th>Fare_bin_Average_fare</th>\n",
       "      <th>Fare_bin_high_fare</th>\n",
       "    </tr>\n",
       "  </thead>\n",
       "  <tbody>\n",
       "    <tr>\n",
       "      <th>0</th>\n",
       "      <td>22.000</td>\n",
       "      <td>0</td>\n",
       "      <td>7.250</td>\n",
       "      <td>1</td>\n",
       "      <td>0</td>\n",
       "      <td>1</td>\n",
       "      <td>0</td>\n",
       "      <td>1</td>\n",
       "      <td>0</td>\n",
       "      <td>0</td>\n",
       "      <td>0</td>\n",
       "      <td>1</td>\n",
       "      <td>1</td>\n",
       "      <td>0</td>\n",
       "      <td>0</td>\n",
       "      <td>0</td>\n",
       "      <td>0</td>\n",
       "      <td>0</td>\n",
       "      <td>1</td>\n",
       "      <td>0</td>\n",
       "      <td>0</td>\n",
       "      <td>0</td>\n",
       "      <td>0</td>\n",
       "      <td>0</td>\n",
       "      <td>0</td>\n",
       "      <td>0</td>\n",
       "      <td>0</td>\n",
       "      <td>1</td>\n",
       "      <td>0</td>\n",
       "      <td>0</td>\n",
       "      <td>0</td>\n",
       "      <td>0</td>\n",
       "    </tr>\n",
       "    <tr>\n",
       "      <th>1</th>\n",
       "      <td>38.000</td>\n",
       "      <td>0</td>\n",
       "      <td>71.283</td>\n",
       "      <td>0</td>\n",
       "      <td>0</td>\n",
       "      <td>0</td>\n",
       "      <td>0</td>\n",
       "      <td>0</td>\n",
       "      <td>1</td>\n",
       "      <td>0</td>\n",
       "      <td>0</td>\n",
       "      <td>0</td>\n",
       "      <td>1</td>\n",
       "      <td>0</td>\n",
       "      <td>0</td>\n",
       "      <td>0</td>\n",
       "      <td>0</td>\n",
       "      <td>0</td>\n",
       "      <td>1</td>\n",
       "      <td>0</td>\n",
       "      <td>0</td>\n",
       "      <td>0</td>\n",
       "      <td>0</td>\n",
       "      <td>0</td>\n",
       "      <td>0</td>\n",
       "      <td>0</td>\n",
       "      <td>0</td>\n",
       "      <td>1</td>\n",
       "      <td>0</td>\n",
       "      <td>0</td>\n",
       "      <td>0</td>\n",
       "      <td>1</td>\n",
       "    </tr>\n",
       "    <tr>\n",
       "      <th>2</th>\n",
       "      <td>26.000</td>\n",
       "      <td>0</td>\n",
       "      <td>7.925</td>\n",
       "      <td>0</td>\n",
       "      <td>0</td>\n",
       "      <td>1</td>\n",
       "      <td>1</td>\n",
       "      <td>0</td>\n",
       "      <td>0</td>\n",
       "      <td>0</td>\n",
       "      <td>0</td>\n",
       "      <td>1</td>\n",
       "      <td>0</td>\n",
       "      <td>0</td>\n",
       "      <td>0</td>\n",
       "      <td>0</td>\n",
       "      <td>0</td>\n",
       "      <td>0</td>\n",
       "      <td>0</td>\n",
       "      <td>0</td>\n",
       "      <td>0</td>\n",
       "      <td>0</td>\n",
       "      <td>0</td>\n",
       "      <td>0</td>\n",
       "      <td>0</td>\n",
       "      <td>0</td>\n",
       "      <td>0</td>\n",
       "      <td>1</td>\n",
       "      <td>0</td>\n",
       "      <td>1</td>\n",
       "      <td>0</td>\n",
       "      <td>0</td>\n",
       "    </tr>\n",
       "    <tr>\n",
       "      <th>3</th>\n",
       "      <td>35.000</td>\n",
       "      <td>0</td>\n",
       "      <td>53.100</td>\n",
       "      <td>0</td>\n",
       "      <td>0</td>\n",
       "      <td>1</td>\n",
       "      <td>0</td>\n",
       "      <td>0</td>\n",
       "      <td>1</td>\n",
       "      <td>0</td>\n",
       "      <td>0</td>\n",
       "      <td>0</td>\n",
       "      <td>1</td>\n",
       "      <td>0</td>\n",
       "      <td>0</td>\n",
       "      <td>0</td>\n",
       "      <td>0</td>\n",
       "      <td>0</td>\n",
       "      <td>1</td>\n",
       "      <td>0</td>\n",
       "      <td>0</td>\n",
       "      <td>0</td>\n",
       "      <td>0</td>\n",
       "      <td>0</td>\n",
       "      <td>0</td>\n",
       "      <td>0</td>\n",
       "      <td>0</td>\n",
       "      <td>1</td>\n",
       "      <td>0</td>\n",
       "      <td>0</td>\n",
       "      <td>0</td>\n",
       "      <td>1</td>\n",
       "    </tr>\n",
       "    <tr>\n",
       "      <th>4</th>\n",
       "      <td>35.000</td>\n",
       "      <td>0</td>\n",
       "      <td>8.050</td>\n",
       "      <td>1</td>\n",
       "      <td>0</td>\n",
       "      <td>1</td>\n",
       "      <td>0</td>\n",
       "      <td>1</td>\n",
       "      <td>0</td>\n",
       "      <td>0</td>\n",
       "      <td>0</td>\n",
       "      <td>1</td>\n",
       "      <td>0</td>\n",
       "      <td>0</td>\n",
       "      <td>0</td>\n",
       "      <td>0</td>\n",
       "      <td>0</td>\n",
       "      <td>0</td>\n",
       "      <td>0</td>\n",
       "      <td>0</td>\n",
       "      <td>0</td>\n",
       "      <td>0</td>\n",
       "      <td>0</td>\n",
       "      <td>0</td>\n",
       "      <td>0</td>\n",
       "      <td>0</td>\n",
       "      <td>0</td>\n",
       "      <td>1</td>\n",
       "      <td>0</td>\n",
       "      <td>1</td>\n",
       "      <td>0</td>\n",
       "      <td>0</td>\n",
       "    </tr>\n",
       "  </tbody>\n",
       "</table>\n",
       "</div>"
      ],
      "text/plain": [
       "     Age  Parch   Fare  Sex_male  Embarked_Q  Embarked_S  Title_Miss  \\\n",
       "0 22.000      0  7.250         1           0           1           0   \n",
       "1 38.000      0 71.283         0           0           0           0   \n",
       "2 26.000      0  7.925         0           0           1           1   \n",
       "3 35.000      0 53.100         0           0           1           0   \n",
       "4 35.000      0  8.050         1           0           1           0   \n",
       "\n",
       "   Title_Mr  Title_Mrs  Title_Rare  Pclass_2  Pclass_3  SibSp_1  SibSp_2  \\\n",
       "0         1          0           0         0         1        1        0   \n",
       "1         0          1           0         0         0        1        0   \n",
       "2         0          0           0         0         1        0        0   \n",
       "3         0          1           0         0         0        1        0   \n",
       "4         1          0           0         0         1        0        0   \n",
       "\n",
       "   SibSp_3  SibSp_4  SibSp_5  SibSp_8  FamilySize_2  FamilySize_3  \\\n",
       "0        0        0        0        0             1             0   \n",
       "1        0        0        0        0             1             0   \n",
       "2        0        0        0        0             0             0   \n",
       "3        0        0        0        0             1             0   \n",
       "4        0        0        0        0             0             0   \n",
       "\n",
       "   FamilySize_4  FamilySize_5  FamilySize_6  FamilySize_7  FamilySize_8  \\\n",
       "0             0             0             0             0             0   \n",
       "1             0             0             0             0             0   \n",
       "2             0             0             0             0             0   \n",
       "3             0             0             0             0             0   \n",
       "4             0             0             0             0             0   \n",
       "\n",
       "   FamilySize_11  Age_bin_Teenage  Age_bin_Adult  Age_bin_Elder  \\\n",
       "0              0                0              1              0   \n",
       "1              0                0              1              0   \n",
       "2              0                0              1              0   \n",
       "3              0                0              1              0   \n",
       "4              0                0              1              0   \n",
       "\n",
       "   Fare_bin_median_fare  Fare_bin_Average_fare  Fare_bin_high_fare  \n",
       "0                     0                      0                   0  \n",
       "1                     0                      0                   1  \n",
       "2                     1                      0                   0  \n",
       "3                     0                      0                   1  \n",
       "4                     1                      0                   0  "
      ]
     },
     "execution_count": 33,
     "metadata": {},
     "output_type": "execute_result"
    }
   ],
   "source": [
    "X.head()"
   ]
  },
  {
   "cell_type": "markdown",
   "id": "62f59c66-ef12-4049-ac9f-1b6b7476783e",
   "metadata": {
    "tags": []
   },
   "source": [
    "# Machine Learning"
   ]
  },
  {
   "cell_type": "code",
   "execution_count": 34,
   "id": "3280957d-4aa3-4efa-8b90-6c769b26db4f",
   "metadata": {
    "tags": []
   },
   "outputs": [],
   "source": [
    "# Base model"
   ]
  },
  {
   "cell_type": "code",
   "execution_count": 35,
   "id": "bba20ac9-9a73-4261-a6bd-261013691622",
   "metadata": {
    "tags": []
   },
   "outputs": [
    {
     "name": "stdout",
     "output_type": "stream",
     "text": [
      "Base model...\n",
      "accuracy:  {0.8003} (RandomForest)\n"
     ]
    }
   ],
   "source": [
    "print(\"Base model...\")\n",
    "cv_results = cross_validate(RandomForestClassifier(random_state=8), X, y, cv=10, scoring=\"accuracy\")\n",
    "print(\"accuracy: \", {round(cv_results['test_score'].mean(), 4)}, \"(RandomForest)\")"
   ]
  },
  {
   "cell_type": "code",
   "execution_count": 36,
   "id": "7bd9d8f5-859d-4519-83da-73012b6551a9",
   "metadata": {
    "tags": []
   },
   "outputs": [],
   "source": [
    "# Hyperparameter Optimization"
   ]
  },
  {
   "cell_type": "code",
   "execution_count": 37,
   "id": "77787850-6513-441d-b3ba-1696fa5b045d",
   "metadata": {
    "tags": []
   },
   "outputs": [
    {
     "name": "stdout",
     "output_type": "stream",
     "text": [
      "Before hyperparameter optimization / accuracy:  0.8003 (RandomForest)\n",
      "After hyperparameter optimization / accuracy: 0.853 (RandomForest) \n"
     ]
    }
   ],
   "source": [
    "print(\"Before hyperparameter optimization / accuracy: \", round(cv_results['test_score'].mean(), 4), \"(RandomForest)\")\n",
    "rf_params = {\n",
    "    'bootstrap': [True],\n",
    "    'max_depth': [9, 8, 7],\n",
    "    'max_features': [30, 25, 20],\n",
    "    'min_samples_leaf': [1, 3],\n",
    "    'min_samples_split': [10, 8, 5],\n",
    "    'n_estimators': [500, 700]\n",
    "}    \n",
    "\n",
    "random_forest = RandomForestClassifier(random_state=78)\n",
    "\n",
    "gs_best = GridSearchCV(random_forest, rf_params, cv=10, n_jobs=-1, verbose=False).fit(X, y)\n",
    "final_model = random_forest.set_params(**gs_best.best_params_)\n",
    "\n",
    "cv_results = cross_validate(random_forest, X, y, cv=10, scoring=\"accuracy\")\n",
    "print(f\"After hyperparameter optimization / accuracy: {round(cv_results['test_score'].mean(), 4)} (RandomForest) \")"
   ]
  },
  {
   "cell_type": "code",
   "execution_count": 38,
   "id": "6d180685-b9c4-41f2-a2b3-91c1658e5612",
   "metadata": {
    "tags": []
   },
   "outputs": [
    {
     "data": {
      "text/plain": [
       "{'bootstrap': True,\n",
       " 'max_depth': 8,\n",
       " 'max_features': 30,\n",
       " 'min_samples_leaf': 1,\n",
       " 'min_samples_split': 5,\n",
       " 'n_estimators': 700}"
      ]
     },
     "execution_count": 38,
     "metadata": {},
     "output_type": "execute_result"
    }
   ],
   "source": [
    "gs_best.best_params_"
   ]
  },
  {
   "cell_type": "code",
   "execution_count": 39,
   "id": "509938a6-ce39-4b64-9d66-fbbafbcd48e2",
   "metadata": {
    "tags": []
   },
   "outputs": [],
   "source": [
    "# Submission"
   ]
  },
  {
   "cell_type": "code",
   "execution_count": 40,
   "id": "0313bf88-3f66-41a2-9dfa-2a4561327a9d",
   "metadata": {
    "tags": []
   },
   "outputs": [],
   "source": [
    "ids = pd.read_csv(\"datasets/test.csv\")\n",
    "ids = ids[\"PassengerId\"]"
   ]
  },
  {
   "cell_type": "code",
   "execution_count": 41,
   "id": "7364a6d8-9bf1-4c88-9404-7d195af6aa10",
   "metadata": {
    "tags": []
   },
   "outputs": [],
   "source": [
    "cat_cols = ['Sex','Embarked','Title','Pclass','SibSp','FamilySize','Age_bin','Fare_bin']\n",
    "\n",
    "def one_hot_encoder_test(dataframe, categorical_cols, drop_first=True):\n",
    "    dataframe = pd.get_dummies(dataframe, columns = categorical_cols, drop_first=drop_first)\n",
    "    return dataframe\n",
    "\n",
    "X_val = one_hot_encoder(dataframe_test, cat_cols, drop_first=True)"
   ]
  },
  {
   "cell_type": "code",
   "execution_count": 42,
   "id": "e11e88b3-31b9-4095-b3fd-3bcaa1e955b2",
   "metadata": {
    "tags": []
   },
   "outputs": [],
   "source": [
    "final_model.fit(X, y)\n",
    "predictions = random_forest.predict(X_val)"
   ]
  },
  {
   "cell_type": "code",
   "execution_count": 43,
   "id": "e66f3d9f-c840-49f7-ac81-e3de6bf47e38",
   "metadata": {
    "tags": []
   },
   "outputs": [],
   "source": [
    "output = pd.DataFrame({ 'PassengerId' : ids, 'Survived': predictions })\n",
    "output.to_csv('submissionVBT.csv', index=False)"
   ]
  },
  {
   "cell_type": "code",
   "execution_count": null,
   "id": "34be2407-bb62-495b-9635-4868cdb746c1",
   "metadata": {},
   "outputs": [],
   "source": []
  }
 ],
 "metadata": {
  "kernelspec": {
   "display_name": "Python 3 (ipykernel)",
   "language": "python",
   "name": "python3"
  },
  "language_info": {
   "codemirror_mode": {
    "name": "ipython",
    "version": 3
   },
   "file_extension": ".py",
   "mimetype": "text/x-python",
   "name": "python",
   "nbconvert_exporter": "python",
   "pygments_lexer": "ipython3",
   "version": "3.11.4"
  }
 },
 "nbformat": 4,
 "nbformat_minor": 5
}
